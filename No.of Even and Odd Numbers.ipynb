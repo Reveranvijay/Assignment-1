{
 "cells": [
  {
   "cell_type": "code",
   "execution_count": 16,
   "id": "13afbf91",
   "metadata": {},
   "outputs": [
    {
     "name": "stdout",
     "output_type": "stream",
     "text": [
      "Number of even numbers : 4\n",
      "Number of odd numbers : 5\n"
     ]
    }
   ],
   "source": [
    "num = (1, 2, 3, 4, 5, 6, 7, 8, 9,) # Declaring the tuple\n",
    "Odd = 0\n",
    "Even = 0\n",
    "for x in num:\n",
    "        if not x % 2:\n",
    "           Even+=1\n",
    "        else:\n",
    "          Odd+=1\n",
    "print(\"Number of even numbers :\",Even)\n",
    "print(\"Number of odd numbers :\",Odd)"
   ]
  },
  {
   "cell_type": "code",
   "execution_count": null,
   "id": "79ee54af",
   "metadata": {},
   "outputs": [],
   "source": []
  }
 ],
 "metadata": {
  "kernelspec": {
   "display_name": "Python 3 (ipykernel)",
   "language": "python",
   "name": "python3"
  },
  "language_info": {
   "codemirror_mode": {
    "name": "ipython",
    "version": 3
   },
   "file_extension": ".py",
   "mimetype": "text/x-python",
   "name": "python",
   "nbconvert_exporter": "python",
   "pygments_lexer": "ipython3",
   "version": "3.9.7"
  }
 },
 "nbformat": 4,
 "nbformat_minor": 5
}
